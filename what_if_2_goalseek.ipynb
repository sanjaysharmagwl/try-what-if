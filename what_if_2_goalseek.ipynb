{
 "cells": [
  {
   "cell_type": "markdown",
   "metadata": {},
   "source": [
    "## Excel \"What if?\" analysis with Python - Part 2: Goal Seek\n"
   ]
  },
  {
   "cell_type": "markdown",
   "metadata": {},
   "source": [
    "In the first notebook of this series, I introduced the general idea of using Python for typical spreadsheet modeling activities. We built both object-oriented (OO) and non-OO versions of a basic business model (the Bookstore Model - it's repeated below for convenience) and learned a few things about doing OOP in Python. Then we designed and created a `data_table` function to do sensitivity analysis much like Excel's Data Table tool (though our Python version can handle an arbitrary number of both input and output variables).\n",
    "\n",
    "Now we'll build on that work in part 2 by designing and creating a `goal_seek` function that is very similar to Excel's Goal Seek tool. As we did in part 1, we'll also be exploring some of Python's more advanced features. "
   ]
  },
  {
   "cell_type": "markdown",
   "metadata": {},
   "source": [
    "In the remainder of this document, we'll learn a bit about root finding as well as things like SciPy, partial function freezing, and function wrapping with lambda functions. When we are done, we'll have a `goal_seek` function to complement our `data_table` function. \n"
   ]
  },
  {
   "cell_type": "code",
   "execution_count": null,
   "metadata": {},
   "outputs": [],
   "source": [
    "import numpy as np\n",
    "import pandas as pd\n",
    "import matplotlib.pyplot as plt\n",
    "from sklearn.model_selection._search import ParameterGrid\n",
    "import seaborn as sns\n",
    "import copy"
   ]
  },
  {
   "cell_type": "code",
   "execution_count": null,
   "metadata": {},
   "outputs": [],
   "source": [
    "%matplotlib inline"
   ]
  },
  {
   "cell_type": "markdown",
   "metadata": {},
   "source": [
    "### Bookstore model\n",
    "\n",
    "For convenience, I'll describe the base model we are using throughout this series of Jupyter notebook based posts. This example is based on [one in the spreadsheet modeling textbook(s) I've used in my classes since 2001](https://host.kelley.iu.edu/albrightbooks/). I started out using Practical Management Science by Winston and Albright and switched to their Business Analytics: Data Analysis and Decision Making (Albright and Winston) around 2013ish. In both books, they introduce the \"Walton Bookstore\" problem in the chapter on Monte-Carlo simulation. Here's the basic problem (with a few modifications):\n",
    "\n",
    "* we have to place an order for a perishable product (e.g. a calendar)\n",
    "* there's a known unit cost for each one ordered\n",
    "* we have a known selling price\n",
    "* demand is uncertain but we can model it with some simple probability distribution\n",
    "* for each unsold item, we can get a partial refund of our unit cost\n",
    "* we need to select the order quantity for our one order for the year; orders can only be in multiples of 25\n"
   ]
  },
  {
   "cell_type": "markdown",
   "metadata": {},
   "source": [
    "### Goal Seek\n",
    "\n",
    "In addition to the type of sensitivity analysis enabled by the `data_table` function we created in the first notebook, another typical Excel analytical task is to use Goal Seek to find, say, the break even level of demand. At its core, Goal Seek is just a root finder. So, in the Python world, it feels like the optimization routines in SciPy might be useful. Let's start with the non-OO version of our Bookstore Model"
   ]
  },
  {
   "cell_type": "markdown",
   "metadata": {},
   "source": [
    "## Attempt at non-OO version of Goal Seek\n",
    "\n",
    "This got tricky but led down all kinds of interesting side paths having to do with partial function freezing, lambda functions, currying, function signatures and more. Let's initialize our base input values."
   ]
  },
  {
   "cell_type": "code",
   "execution_count": null,
   "metadata": {},
   "outputs": [],
   "source": [
    "# Set all of our base input values\n",
    "unit_cost = 7.50\n",
    "selling_price = 10.00\n",
    "unit_refund = 2.50\n",
    "\n",
    "demand = 193\n",
    "\n",
    "order_quantity = 250"
   ]
  },
  {
   "cell_type": "markdown",
   "metadata": {},
   "source": [
    "Back in the first post in this series, we then created a function that took all of our base inputs as input arguments and returned a value for profit."
   ]
  },
  {
   "cell_type": "code",
   "execution_count": null,
   "metadata": {},
   "outputs": [],
   "source": [
    "def bookstore_profit(unit_cost, selling_price, unit_refund, order_quantity, demand):\n",
    "    '''\n",
    "    Compute profit in bookstore model\n",
    "    '''\n",
    "    order_cost = unit_cost * order_quantity\n",
    "    sales_revenue = np.minimum(order_quantity, demand) * selling_price\n",
    "    refund_revenue = np.maximum(0, order_quantity - demand) * unit_refund \n",
    "    profit = sales_revenue + refund_revenue - order_cost\n",
    "    return profit"
   ]
  },
  {
   "cell_type": "markdown",
   "metadata": {},
   "source": [
    "Let's try it out."
   ]
  },
  {
   "cell_type": "code",
   "execution_count": null,
   "metadata": {},
   "outputs": [],
   "source": [
    "bookstore_profit(unit_cost, selling_price, unit_refund, order_quantity, demand)"
   ]
  },
  {
   "cell_type": "markdown",
   "metadata": {},
   "source": [
    "### A bit about root finding using a simpler example"
   ]
  },
  {
   "cell_type": "markdown",
   "metadata": {},
   "source": [
    "Now let's try to find the break even value for demand; i.e. the level of demand that leads to a profit of zero. As mentioned above, this is a root finding problem - finding where the profit function crosses the x-axis. The [SciPy package has various root finding and optimization functions](https://docs.scipy.org/doc/scipy/reference/optimize.html). \n",
    "\n",
    "Reading that page, we eventually get down to the root finding section and find the main function, [root_scalar](https://docs.scipy.org/doc/scipy/reference/generated/scipy.optimize.root_scalar.html#scipy.optimize.root_scalar). Before trying to use this this function for our bookstore model, let's consider a simpler example - a quadratic function."
   ]
  },
  {
   "cell_type": "code",
   "execution_count": null,
   "metadata": {},
   "outputs": [],
   "source": [
    "def simple_function(x):\n",
    "    '''x^2 - 3x - 5'''\n",
    "    return x ** 2 - 3 * x - 5"
   ]
  },
  {
   "cell_type": "code",
   "execution_count": null,
   "metadata": {},
   "outputs": [],
   "source": [
    "simple_function(2)"
   ]
  },
  {
   "cell_type": "code",
   "execution_count": null,
   "metadata": {},
   "outputs": [],
   "source": [
    "simple_function(10)"
   ]
  },
  {
   "cell_type": "code",
   "execution_count": null,
   "metadata": {},
   "outputs": [],
   "source": [
    "left_bracket = -2\n",
    "right_bracket = 10\n",
    "x = np.linspace(left_bracket, right_bracket)\n",
    "y = simple_function(x)\n",
    "plt.plot(x, y)\n",
    "plt.xlabel('x')\n",
    "plt.ylabel('y = simple_function(x)')\n",
    "plt.hlines(0, left_bracket, right_bracket, linestyles='dotted')\n",
    "plt.show()"
   ]
  },
  {
   "attachments": {
    "image.png": {
     "image/png": "[encoded data removed]"
    }
   },
   "cell_type": "markdown",
   "metadata": {},
   "source": [
    "To use `scipy.optimize.root_scalar` to find the value of `x` where `simple_function(x)` is equal to zero, we call the `root_scalar` and pass in the following input arguments:\n",
    "\n",
    "* the function - in our case, this is `simple_function`\n",
    "* the root finding method - we'll use `bisect` as it's simple, converges, and doesn't require any derivative information. See https://www.youtube.com/watch?v=MlP_W-obuNg for an explanation of how bisection search works and how it can be easily implemented in Python. The basic idea is:\n",
    "    - divide search region in half\n",
    "    - see if root lies in left half or right half by checking if sign changes from beginning of left half to midpoint,\n",
    "    - discard the half not containing the root\n",
    "    - repeat the above until hit root exactly (or close enough) or reach iteration limit.\n",
    "* a bracket (required for some methods) - if we can define a range `[a, b]` within which we know the root occurs such that $f(a)$ and $f(b)$ have different signs, we can supply it. For example, in our `simple_function` example, we know it must cross zero somewhere between [-2, 0] and then again betwen [0, 10]. As you can imagine such a bracket will help immensely when there are multiple roots and lessen the effect of the initial guess. However, finding a range that brackets the root in a way that the sign changes at the endpoints of the bracket may be quite a difficult task.\n",
    "* an initial guess (optional) - many root finding algorithms will perform better if we are able to give a reasonable guess as to where the root might be.\n",
    "\n",
    "If you've ever used Excel's Goal Seek tool, you may have stumbled on behaviors that are related to the list and plot above.\n",
    "\n",
    "* Goal Seek doesn't allow you to tell it a whole lot in terms of how it attempts to find roots. We don't get to specify the method and we don't get to bracket the root. But, ...\n",
    "* Goal Seek does use the current cell value of the *Changing Cell* as an initial guess\n",
    "* If our spreadsheet model does have multiple roots, the root returned by Goal Seek will depend on our initial guess.\n",
    "\n",
    "For example, here are the results of using Goal Seek to drive `simple_function(x)` to 0 with different initial guesses. Note that the function is minimized at $x=1.5$.\n",
    "\n",
    "![image.png](attachment:image.png)\n",
    "\n",
    "Let's try a few different root finding functions available in SciPy.\n",
    "\n",
    "* `fsolve` - this appears to be a legacy function but doesn't require us to bracket the root such that $f(a)$ and $f(b)$ have different signs. Of course, the root it returns will likely be impacted by the initial guess (just as Goal Seek is).  \n",
    "* `root_scalar` - this is a newer, more general, function for which we can specify specifics such as the root finding algorithm. Most of the methods require a root bracket."
   ]
  },
  {
   "cell_type": "code",
   "execution_count": null,
   "metadata": {},
   "outputs": [],
   "source": [
    "from scipy.optimize import root_scalar\n",
    "from scipy.optimize import fsolve"
   ]
  },
  {
   "cell_type": "code",
   "execution_count": null,
   "metadata": {},
   "outputs": [],
   "source": [
    "# fsolve - very similar to Goal Seek\n",
    "init_values = [-1, 0.5, 1.49, 1.5, 1.51, 2.5, 6]\n",
    "\n",
    "[(x, fsolve(simple_function, x)) for x in init_values]\n",
    "    "
   ]
  },
  {
   "cell_type": "markdown",
   "metadata": {},
   "source": [
    "Now let's try `root_scalar`."
   ]
  },
  {
   "cell_type": "code",
   "execution_count": null,
   "metadata": {},
   "outputs": [],
   "source": [
    "# Left root\n",
    "init_values_1 = [-1, -0.5, 0.0]\n",
    "[(x, root_scalar(simple_function, method='bisect', bracket=[-2, 0], x1=x).root) for x in init_values_1]"
   ]
  },
  {
   "cell_type": "code",
   "execution_count": null,
   "metadata": {},
   "outputs": [],
   "source": [
    "# Right root\n",
    "init_values_2 = [0.0, 0.5, 1, 4, 10]\n",
    "[(x, root_scalar(simple_function, method='bisect', bracket=[0, 10], x1=x).root) for x in init_values_2]\n",
    "    "
   ]
  },
  {
   "cell_type": "markdown",
   "metadata": {},
   "source": [
    "Great. In this contrived case in which we can easily write a function to compute the derivative of `simple_function`, we could use Newton's method instead of bisection search (or others) that require bracketing. Sometimes, just bracketing the root might be really hard. Of course, then the initial guess will matter a lot and we should be able to duplicate Goal Seek's behavior. In real spreadsheet life, we probably don't have a closed form solution for the derivative, though we could likely approximate it pretty well as long as it wasn't super jumpy. \n",
    "\n",
    "Check out http://www.math.pitt.edu/~troy/math2070/lab_04.html if you want to play around in Python with different root finding algorithms.\n",
    "\n",
    "Anyway, let's give Newton's a go."
   ]
  },
  {
   "cell_type": "code",
   "execution_count": null,
   "metadata": {},
   "outputs": [],
   "source": [
    "def simple_function_prime(x):\n",
    "    '''Derivative of x^2 - 3x - 5'''\n",
    "    return 2 * x - 3"
   ]
  },
  {
   "cell_type": "code",
   "execution_count": null,
   "metadata": {},
   "outputs": [],
   "source": [
    "init_values = [-1, 0.5, 1.49, 1.5, 1.51, 2.5, 6]\n",
    "\n",
    "[(x, root_scalar(simple_function, method='newton', fprime=simple_function_prime, x0=x).root) for x in init_values]"
   ]
  },
  {
   "cell_type": "markdown",
   "metadata": {},
   "source": [
    "Notice that with Newton's Method, we got the same behavior as Goal Seek, except for when we used an initial guess of 1.5. Of course, this is the point at which `simple_function` is minimized and the derivative is 0. We get a warning about that and instead of arbitrarily going in one direction or the other, `root_scalar` just bailed and gave us back our original guess. These root finding functions actually [return much more info than just the root](https://docs.scipy.org/doc/scipy/reference/generated/scipy.optimize.RootResults.html#scipy.optimize.RootResults)."
   ]
  },
  {
   "cell_type": "code",
   "execution_count": null,
   "metadata": {},
   "outputs": [],
   "source": [
    "print(root_scalar(simple_function, method='newton', fprime=simple_function_prime, x0=1))"
   ]
  },
  {
   "cell_type": "code",
   "execution_count": null,
   "metadata": {},
   "outputs": [],
   "source": [
    "print(root_scalar(simple_function, method='newton', fprime=simple_function_prime, x0=1.5))"
   ]
  },
  {
   "cell_type": "markdown",
   "metadata": {},
   "source": [
    "Try out different methods and you'll see that some take longer than others to converge. Bisection search is [known to be slow but safe](https://www.youtube.com/watch?v=MlP_W-obuNg&t=138s)."
   ]
  },
  {
   "cell_type": "code",
   "execution_count": null,
   "metadata": {},
   "outputs": [],
   "source": [
    "print(root_scalar(simple_function, method='bisect', bracket=[0, 10], x1=1))"
   ]
  },
  {
   "cell_type": "markdown",
   "metadata": {},
   "source": [
    "### Back to the Bookstore Model and partial functions\n",
    "You may have already been wondering how exactly we might use SciPy's root finding functions with our `bookstore_profit` function since it doesn't just have one input argument, it's got five. How do we tell `root_scalar` which one of the inputs (e.g. demand) is the one we want to search over and that we want all the other arguments to remain fixed at specific values? This is a job for something known as a [partial function](https://www.learnpython.org/en/Partial_functions). The idea is to create a new function object that is based on an existing function, but with some of the function's inputs set to fixed values. To create partial functions, we need to use the `partial` function from the `functools` library. Unfortunately, while this initially seemed easy, we quickly ran into problems. \n",
    "\n",
    "So, for our purposes, I'm just going immediately jump to the OO version of the `BookstoreModel`. If you are interested in the details regarding the challenge described above, then see the [blog post version of this tutorial](https://bitsofanalytics.org/posts/what-if-2-goal-seek/what_if_2_goalseek.html)."
   ]
  },
  {
   "cell_type": "markdown",
   "metadata": {},
   "source": [
    "## Goal Seeking with the OO BookstoreModel\n",
    "Back in the first post of the series, we created a `BookstoreModel` class which contained methods for computing profit and other output measures, updating input parameters, and some other useful tasks. Here's the class we ended up with:"
   ]
  },
  {
   "cell_type": "code",
   "execution_count": null,
   "metadata": {},
   "outputs": [],
   "source": [
    "class BookstoreModel():\n",
    "    def __init__(self, unit_cost=0, selling_price=0, unit_refund=0, \n",
    "                 order_quantity=0, demand=0):\n",
    "        self.unit_cost = unit_cost\n",
    "        self.selling_price = selling_price\n",
    "        self.unit_refund = unit_refund\n",
    "        self.order_quantity = order_quantity\n",
    "        self.demand = demand\n",
    "        \n",
    "        \n",
    "    def update(self, param_dict):\n",
    "        \"\"\"\n",
    "        Update parameter values\n",
    "        \"\"\"\n",
    "        for key in param_dict:\n",
    "            setattr(self, key, param_dict[key])\n",
    "        \n",
    "    def order_cost(self):\n",
    "        \"\"\"Compute total order cost\"\"\"\n",
    "        return self.unit_cost * self.order_quantity\n",
    "    \n",
    "    def sales_revenue(self):\n",
    "        \"\"\"Compute sales revenue\"\"\"\n",
    "        return np.minimum(self.order_quantity, self.demand) * self.selling_price\n",
    "    \n",
    "    def refund_revenue(self):\n",
    "        \"\"\"Compute revenue from refunds for unsold items\"\"\"\n",
    "        return np.maximum(0, self.order_quantity - self.demand) * self.unit_refund\n",
    "    \n",
    "    def total_revenue(self):\n",
    "        \"\"\"Compute revenue from refunds and sales\"\"\"\n",
    "        return self.sales_revenue() + self.refund_revenue()\n",
    "    \n",
    "    def profit(self):\n",
    "        '''\n",
    "        Compute profit in bookstore model\n",
    "        '''\n",
    "        profit = self.sales_revenue() + self.refund_revenue() - self.order_cost()\n",
    "        return profit\n",
    "       \n",
    "    def __str__(self):\n",
    "        \"\"\"\n",
    "        Print dictionary of object attributes\n",
    "        \"\"\"\n",
    "        return str(vars(self))"
   ]
  },
  {
   "cell_type": "markdown",
   "metadata": {},
   "source": [
    "In the first post we also created a `data_table` function that takes a `BookstoreModel` object as input along with input variable ranges and a list of desired outputs to implement the equivalent of general Excel Data Table function which allows an arbitrary number of both inputs and outputs. Recall that in Excel we can either do a 1-way Data Table with any number of outputs or a 2-way table with a single output.\n",
    "\n",
    "Here's that function and quick recap of its use."
   ]
  },
  {
   "cell_type": "code",
   "execution_count": null,
   "metadata": {},
   "outputs": [],
   "source": [
    "def data_table(model, scenario_inputs, outputs):\n",
    "    '''Create n-inputs by m-outputs data table.\n",
    "\n",
    "    Parameters\n",
    "    ----------\n",
    "    model : object\n",
    "        User defined object containing the appropriate methods and properties for computing outputs from inputs\n",
    "    scenario_inputs : dict of str to sequence\n",
    "        Keys are input variable names and values are sequence of values for each scenario for this variable. Is consumed by\n",
    "        scikit-learn ParameterGrid() function. See https://scikit-learn.org/stable/modules/generated/sklearn.model_selection.ParameterGrid.html\n",
    "    outputs : list of str\n",
    "        List of output variable names\n",
    "\n",
    "    Returns\n",
    "    -------\n",
    "    results_df : pandas DataFrame\n",
    "        Contains values of all outputs for every combination of scenario inputs\n",
    "    '''\n",
    "    \n",
    "    # Clone the model using deepcopy\n",
    "    model_clone = copy.deepcopy(model)\n",
    "    \n",
    "    # Create parameter grid\n",
    "    dt_param_grid = list(ParameterGrid(scenario_inputs))\n",
    "    \n",
    "    # Create the table as a list of dictionaries\n",
    "    results = []\n",
    "\n",
    "    # Loop over the scenarios\n",
    "    for params in dt_param_grid:\n",
    "        # Update the model clone with scenario specific values\n",
    "        model_clone.update(params)\n",
    "        # Create a result dictionary based on a copy of the scenario inputs\n",
    "        result = copy.copy(params)\n",
    "        # Loop over the list of requested outputs\n",
    "        for output in outputs:\n",
    "            # Compute the output.\n",
    "            out_val = getattr(model_clone, output)()\n",
    "            # Add the output to the result dictionary\n",
    "            result[output] = out_val\n",
    "        \n",
    "        # Append the result dictionary to the results list\n",
    "        results.append(result)\n",
    "\n",
    "    # Convert the results list (of dictionaries) to a pandas DataFrame and return it\n",
    "    results_df = pd.DataFrame(results)\n",
    "    return results_df"
   ]
  },
  {
   "cell_type": "markdown",
   "metadata": {},
   "source": [
    "Okay, let's try it out. "
   ]
  },
  {
   "cell_type": "code",
   "execution_count": null,
   "metadata": {},
   "outputs": [],
   "source": [
    "# Create a dictionary of base input values\n",
    "\n",
    "base_inputs = {'unit_cost': 7.5, \n",
    "               'selling_price': 10.0, \n",
    "               'unit_refund': 2.5, \n",
    "               'order_quantity': 200, \n",
    "               'demand': 193}"
   ]
  },
  {
   "cell_type": "code",
   "execution_count": null,
   "metadata": {},
   "outputs": [],
   "source": [
    "# Create a new model with default input values (0's)\n",
    "model_6 = BookstoreModel()\n",
    "print(model_6)\n",
    "model_6.profit()"
   ]
  },
  {
   "cell_type": "code",
   "execution_count": null,
   "metadata": {},
   "outputs": [],
   "source": [
    "# Update model with base inputs\n",
    "model_6.update(base_inputs)\n",
    "print(model_6)"
   ]
  },
  {
   "cell_type": "code",
   "execution_count": null,
   "metadata": {},
   "outputs": [],
   "source": [
    "# Specify input ranges for scenarios (dictionary)\n",
    "dt_param_ranges = {'demand': np.arange(70, 321, 25),\n",
    "                   'order_quantity': np.arange(70, 321, 50)}\n",
    "\n",
    "# Specify desired outputs (list)\n",
    "outputs = ['profit', 'order_cost']\n",
    "\n",
    "# Use data_table function\n",
    "m6_dt1_df = data_table(model_6, dt_param_ranges, outputs)\n",
    "m6_dt1_df"
   ]
  },
  {
   "cell_type": "markdown",
   "metadata": {},
   "source": [
    "Let's plot the results using Seaborn."
   ]
  },
  {
   "cell_type": "code",
   "execution_count": null,
   "metadata": {},
   "outputs": [],
   "source": [
    "profit_dt_g = sns.FacetGrid(m6_dt1_df, col=\"order_quantity\", sharey=True, col_wrap=3)\n",
    "profit_dt_g = profit_dt_g.map(plt.plot, \"demand\", \"profit\")"
   ]
  },
  {
   "cell_type": "markdown",
   "metadata": {},
   "source": [
    "### Adding a `goal_seek` function\n",
    "As mentioned earlier in this notebook, there were a bunch of issues that popped up in trying to use SciPy's root finding functions with the non-OO model. For the OO model, it felt like I'd end up with similar problems in trying to write some sort of generic wrapper that would create functions to pass into things like `root_scalar`. Instead, I decided to simply bypass SciPy and write my own root finder that I could tailor to our goal seeking problem. When I say \"write\", I mean find a good implementation that someone has already done and tweak it. \n",
    "\n",
    "For example, https://github.com/patrickwalls/mathematical-python/ has nice implementations of various root finding methods. It was a pretty simple matter to adapt the [bisection function he wrote in this notebook](https://github.com/patrickwalls/mathematical-python/blob/master/roots-optimization/bisection.ipynb) to use in my `goal_seek` function. "
   ]
  },
  {
   "cell_type": "code",
   "execution_count": null,
   "metadata": {},
   "outputs": [],
   "source": [
    "def goal_seek(model, obj_fn, target, by_changing, a, b, N=100, verbose=False):\n",
    "    '''Approximate solution of f(x)=0 on interval [a,b] by bisection method.\n",
    "\n",
    "    Parameters\n",
    "    ----------\n",
    "    model : object\n",
    "        User defined object containing the appropriate methods and properties for doing the desired goal seek\n",
    "    obj_fn : function\n",
    "        The function for which we are trying to approximate a solution f(x)=target.\n",
    "    target : float\n",
    "        The goal\n",
    "    by_changing : string\n",
    "        Name of the input variable in model\n",
    "    a,b : numbers\n",
    "        The interval in which to search for a solution. The function returns\n",
    "        None if (f(a) - target) * (f(b) - target) >= 0 since a solution is not guaranteed.\n",
    "    N : (positive) integer\n",
    "        The number of iterations to implement.\n",
    "    verbose : boolean (default=False)\n",
    "        If True, root finding progress is reported\n",
    "\n",
    "    Returns\n",
    "    -------\n",
    "    x_N : number\n",
    "        The midpoint of the Nth interval computed by the bisection method. The\n",
    "        initial interval [a_0,b_0] is given by [a,b]. If f(m_n) - target == 0 for some\n",
    "        midpoint m_n = (a_n + b_n)/2, then the function returns this solution.\n",
    "        If all signs of values f(a_n), f(b_n) and f(m_n) are the same at any\n",
    "        iteration, the bisection method fails and return None.\n",
    "    '''\n",
    "    # TODO: Checking of inputs and outputs\n",
    "    \n",
    "    # Clone the model\n",
    "    model_clone = copy.deepcopy(model)\n",
    "    \n",
    "    # The following bisection search is a direct adaptation of\n",
    "    # https://www.math.ubc.ca/~pwalls/math-python/roots-optimization/bisection/\n",
    "    # The changes include needing to use an object method instead of a global function\n",
    "    # and the inclusion of a non-zero target value.\n",
    "    \n",
    "    setattr(model_clone, by_changing, a)\n",
    "    f_a_0 = getattr(model_clone, obj_fn)()\n",
    "    setattr(model_clone, by_changing, b)\n",
    "    f_b_0 = getattr(model_clone, obj_fn)()\n",
    "    \n",
    "    if (f_a_0 - target) * (f_b_0 - target) >= 0:\n",
    "        # print(\"Bisection method fails.\")\n",
    "        return None\n",
    "    \n",
    "    # Initialize the end points\n",
    "    a_n = a\n",
    "    b_n = b\n",
    "    for n in range(1, N+1):\n",
    "        # Compute the midpoint\n",
    "        m_n = (a_n + b_n)/2\n",
    "        \n",
    "        # Function value at midpoint\n",
    "        setattr(model_clone, by_changing, m_n)\n",
    "        f_m_n = getattr(model_clone, obj_fn)()\n",
    "        \n",
    "        # Function value at a_n\n",
    "        setattr(model_clone, by_changing, a_n)\n",
    "        f_a_n = getattr(model_clone, obj_fn)()\n",
    "        \n",
    "        # Function value at b_n\n",
    "        setattr(model_clone, by_changing, b_n)\n",
    "        f_b_n = getattr(model_clone, obj_fn)()\n",
    "        \n",
    "        if verbose:\n",
    "            print(f\"n = {n}, a_n = {a_n}, b_n = {b_n}, m_n = {m_n}, width = {b_n - a_n}\")\n",
    "\n",
    "        # Figure out which half the root is in, or if we hit it exactly, or if the search failed\n",
    "        if (f_a_n - target) * (f_m_n - target) < 0:\n",
    "            a_n = a_n\n",
    "            b_n = m_n\n",
    "            if verbose:\n",
    "                print(\"Root is in left half\")\n",
    "        elif (f_b_n - target) * (f_m_n - target) < 0:\n",
    "            a_n = m_n\n",
    "            b_n = b_n\n",
    "            if verbose:\n",
    "                print(\"Root is in right half\")\n",
    "        elif f_m_n == target:\n",
    "            if verbose:\n",
    "                print(\"Found exact solution.\")\n",
    "            return m_n\n",
    "        else:\n",
    "            if verbose:\n",
    "                print(\"Bisection method fails.\")\n",
    "            return None\n",
    "    \n",
    "    # If we get here we hit iteration limit, return best solution found so far\n",
    "    if verbose:\n",
    "        print(\"Reached iteration limit\")\n",
    "    return (a_n + b_n)/2"
   ]
  },
  {
   "cell_type": "markdown",
   "metadata": {},
   "source": [
    "Let's give it a whirl to find break even demand for our standard set of inputs. We know the answer from earlier in this notebook."
   ]
  },
  {
   "cell_type": "code",
   "execution_count": null,
   "metadata": {},
   "outputs": [],
   "source": [
    "goal_seek(model_6, 'profit', 0, 'demand', 0, 1000, N=100, verbose=True)"
   ]
  },
  {
   "cell_type": "markdown",
   "metadata": {},
   "source": [
    "Let's end this part by putting it all together and creating a plot that shows total revenue, total cost, profit and the break even point as functions of demand."
   ]
  },
  {
   "cell_type": "code",
   "execution_count": null,
   "metadata": {},
   "outputs": [],
   "source": [
    "# Specify input ranges for scenarios (dictionary)\n",
    "dt_param_ranges = {'demand': np.arange(70, 321, 25)}\n",
    "\n",
    "# Specify desired outputs (list)\n",
    "outputs = ['profit', 'order_cost', 'total_revenue']\n",
    "\n",
    "# Use data_table function to create dataframe\n",
    "m6_dt2_df = data_table(model_6, dt_param_ranges, outputs)\n",
    "\n",
    "# Use goal_seek to compute break even demand\n",
    "break_even_demand = goal_seek(model_6, 'profit', 0, 'demand', 0, 1000)"
   ]
  },
  {
   "cell_type": "code",
   "execution_count": null,
   "metadata": {},
   "outputs": [],
   "source": [
    "m6_dt2_df"
   ]
  },
  {
   "cell_type": "code",
   "execution_count": null,
   "metadata": {},
   "outputs": [],
   "source": [
    "# Initialize plot\n",
    "plt.style.use('ggplot')\n",
    "fig, ax = plt.subplots()\n",
    "\n",
    "# Create series variables\n",
    "demand = np.array(m6_dt2_df['demand'])\n",
    "cost = np.array(m6_dt2_df['order_cost'])\n",
    "revenue = np.array(m6_dt2_df['total_revenue'])\n",
    "profit = np.array(m6_dt2_df['profit'])\n",
    "\n",
    "# Plot series\n",
    "ax.plot(demand, cost, label='Total cost')\n",
    "ax.plot(demand, revenue, label='Total revenue')\n",
    "ax.plot(demand, profit, label='Profit')\n",
    "\n",
    "# Style plot elements\n",
    "ax.set(title='Break even analysis for bookstore model', xlabel='Demand', ylabel='$')\n",
    "plt.hlines(0, 70, 320, linestyles='dotted')\n",
    "plt.vlines(break_even_demand, -750, 2000, linestyles='dotted')\n",
    "ax.legend(loc='lower right')\n",
    "\n",
    "# Show the plot\n",
    "plt.show()"
   ]
  },
  {
   "cell_type": "markdown",
   "metadata": {},
   "source": [
    "## Wrap up and next steps\n",
    "We have added a `goal_seek` function to our small but growing list of functions for doing Excelish things in Python. Yes, we can certainly improve our `goal_seek` implementation with better root finding algorithms, but this is good enough for now.\n",
    "\n",
    "Along the way, hopefully you learned some new Python things, I know I did.\n",
    "\n",
    "In the next installment of this series, we'll take on Monte-Carlo simulation."
   ]
  },
  {
   "cell_type": "code",
   "execution_count": null,
   "metadata": {},
   "outputs": [],
   "source": []
  }
 ],
 "metadata": {
  "kernelspec": {
   "display_name": "Python [conda env:aap]",
   "language": "python",
   "name": "conda-env-aap-py"
  },
  "language_info": {
   "codemirror_mode": {
    "name": "ipython",
    "version": 3
   },
   "file_extension": ".py",
   "mimetype": "text/x-python",
   "name": "python",
   "nbconvert_exporter": "python",
   "pygments_lexer": "ipython3",
   "version": "3.9.16"
  }
 },
 "nbformat": 4,
 "nbformat_minor": 4
}
